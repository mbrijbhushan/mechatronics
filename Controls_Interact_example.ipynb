{
 "cells": [
  {
   "cell_type": "markdown",
   "metadata": {},
   "source": [
    "Interactive control examples.\n",
    "\n",
    "-Brij Bhushan  \n",
    "16-Sep-2019"
   ]
  },
  {
   "cell_type": "markdown",
   "metadata": {},
   "source": [
    "# Initialize"
   ]
  },
  {
   "cell_type": "code",
   "execution_count": 1,
   "metadata": {},
   "outputs": [],
   "source": [
    "#Load packages\n",
    "import numpy as np\n",
    "import matplotlib.pyplot as plt\n",
    "from matplotlib.ticker import MaxNLocator\n",
    "import control as ctl\n",
    "\n",
    "from ipywidgets import interact, interactive, fixed, interact_manual\n",
    "import ipywidgets as widgets"
   ]
  },
  {
   "cell_type": "code",
   "execution_count": 2,
   "metadata": {},
   "outputs": [],
   "source": [
    "#Define params\n",
    "s = ctl.tf([1,0],[1]) #Define Laplace 's' variable\n",
    "π = np.pi;"
   ]
  },
  {
   "cell_type": "markdown",
   "metadata": {},
   "source": [
    "# 1st-Order transfer function"
   ]
  },
  {
   "cell_type": "code",
   "execution_count": 3,
   "metadata": {},
   "outputs": [],
   "source": [
    "def get1stOrderPlant(tauz=10,taup=1,K=1):\n",
    "    '''\n",
    "    Plots the Bode-plot, pz-map and step response of first order bode plots.\n",
    "    1/tauz: zero location [rad/s],\n",
    "    1/taup: pole location [rad/s],\n",
    "    K : DC-Gain [mag]\n",
    "    '''\n",
    "    plant = K*(tauz*s+1)/(taup*s+1)\n",
    "   \n",
    "    return plant\n",
    "\n",
    "def plot1stOrderPlots(tau_z=10,tau_p=1,K=1):\n",
    "    '''\n",
    "    Encapsulate get1stOrderPlant to add flexibility.\n",
    "    Plots the various plots\n",
    "    '''\n",
    "    plant = get1stOrderPlant(tau_z,tau_p,K);\n",
    "    print(\"TF:\\n\")\n",
    "    print(plant)\n",
    "    t, yout = ctl.step_response(plant)\n",
    "    fig=plt.figure(1)\n",
    "    plt.plot(t,yout)\n",
    "    plt.plot([0,0,t[-1]],[0,1,1],alpha=0.5)\n",
    "    plt.title('Step Response');\n",
    "    plt.ylabel('Response');\n",
    "    plt.xlabel('Time [seconds]');\n",
    "    plt.show()\n",
    "    plt.ylim(0); #adjust limits to not show the negative values\n",
    "#     plt.xlim([0,time[(x_0*1e6+response)<=0][0]]); #adjust limits to not show the negative values\n",
    "    ctl.bode_plot(plant,omega_num=10000,Hz=False); plt.suptitle('Bode Plot');\n",
    "    ctl.pzmap(plant)\n",
    "    return"
   ]
  },
  {
   "cell_type": "code",
   "execution_count": 4,
   "metadata": {},
   "outputs": [
    {
     "data": {
      "application/vnd.jupyter.widget-view+json": {
       "model_id": "9915c0dbc6504ce4ac1f67244aa7367a",
       "version_major": 2,
       "version_minor": 0
      },
      "text/plain": [
       "interactive(children=(IntSlider(value=10, description='tau_z'), IntSlider(value=1, description='tau_p', min=1)…"
      ]
     },
     "metadata": {},
     "output_type": "display_data"
    }
   ],
   "source": [
    "interact(plot1stOrderPlots, tau_z=(0,100,1),tau_p=(1,100,1), K=(1,100));"
   ]
  },
  {
   "cell_type": "markdown",
   "metadata": {},
   "source": [
    "# 2nd-Order Plant"
   ]
  },
  {
   "cell_type": "code",
   "execution_count": 5,
   "metadata": {},
   "outputs": [],
   "source": [
    "def get2ndOrderPlant(ω0,ζ):\n",
    "    '''\n",
    "    ω0: zero location [rad/s],\n",
    "    ζ: pole location [rad/s],\n",
    "    '''\n",
    "    plant = 1/((s/ω0)**2+2*ζ/ω0*s+1);\n",
    "    return plant\n",
    "\n",
    "def plot2ndOrderPlots(ω0=1,ζ=0.5):\n",
    "    '''\n",
    "    Encapsulate get2ndOrderPlant to add flexibility.\n",
    "    Plots the Bode-plot, pz-map and step response of 2nd-order bode plots.\n",
    "    '''\n",
    "    plant = get2ndOrderPlant(ω0,ζ);\n",
    "    print(\"TF: \")\n",
    "    print(plant)\n",
    "#     print('poles:')\n",
    "#     print(ctl.damp(plant));\n",
    "    t, yout = ctl.step_response(plant);\n",
    "    t = np.linspace(0,t[-1],1000);\n",
    "    t, yout = ctl.step_response(plant,t)\n",
    "    fig=plt.figure(1)\n",
    "    plt.plot(t,yout)\n",
    "    plt.plot([0,0,t[-1]],[0,1,1],alpha=0.5)\n",
    "    plt.title('Step Response');\n",
    "    plt.ylabel('Response');\n",
    "    plt.xlabel('Time [seconds]');\n",
    "    plt.show()\n",
    "    plt.ylim(0); #adjust limits to not show the negative values\n",
    "#     plt.xlim([0,time[(x_0*1e6+response)<=0][0]]); #adjust limits to not show the negative values\n",
    "    ctl.bode_plot(plant,omega_num=10000,Hz=False); plt.suptitle('Bode Plot');\n",
    "    ctl.pzmap(plant)\n",
    "    return"
   ]
  },
  {
   "cell_type": "code",
   "execution_count": 6,
   "metadata": {},
   "outputs": [
    {
     "data": {
      "application/vnd.jupyter.widget-view+json": {
       "model_id": "d9ef021dee1f408ebb974513dccc2dec",
       "version_major": 2,
       "version_minor": 0
      },
      "text/plain": [
       "interactive(children=(IntSlider(value=1, description='ω0', min=1), FloatSlider(value=0.5, description='ζ', max…"
      ]
     },
     "metadata": {},
     "output_type": "display_data"
    }
   ],
   "source": [
    "interact(plot2ndOrderPlots,ω0=(1,100,1),ζ=(0,1,0.01));"
   ]
  },
  {
   "cell_type": "markdown",
   "metadata": {},
   "source": [
    "# Discrete time integrator with Kp\n",
    "\n",
    "Plant: $H(z) = \\frac{1}{z-1}$, $T=1$  \n",
    "Ctrl: $K_p$ (pure proportional controller)  \n",
    "RR: $\\frac{K_p}{z-1}$, $T=1$\n"
   ]
  },
  {
   "cell_type": "code",
   "execution_count": 7,
   "metadata": {},
   "outputs": [],
   "source": [
    "def getDiscIntPlant(Ts=1):\n",
    "    '''\n",
    "    K: slope of integrator\n",
    "    '''\n",
    "    z = ctl.tf([1,0],[1],Ts)\n",
    "    plant = 1/(z-1);\n",
    "    return plant\n",
    "\n",
    "def getDiscIntCLplots(Kp=0.5):\n",
    "    '''\n",
    "    Encapsulate getDiscIntPlant to add flexibility, close the loop and \n",
    "    plot various relevant plots.\n",
    "    '''\n",
    "    plant = getDiscIntPlant(Ts=1);\n",
    "#     print(\"plant TF: \")\n",
    "#     print(plant)\n",
    "\n",
    "    RR = Kp*plant;\n",
    "#     print(\"RR TF: \")\n",
    "#     print(RR)\n",
    "    \n",
    "    CL = ctl.feedback(RR,1)\n",
    "    \n",
    "    #Step-repose of closed loop\n",
    "    t=np.arange(0,21,1)\n",
    "    t, yout = ctl.step_response(CL,t);\n",
    "    fig=plt.figure(1); ax=fig.gca();\n",
    "    plt.step(t,np.squeeze(yout),where='post')\n",
    "    plt.plot([0,0,t[-1]],[0,1,1],alpha=0.5)\n",
    "    plt.ylim(0); #adjust limits to not show the negative values\n",
    "    plt.xticks(np.arange(0,21,2));\n",
    "    plt.title('CL Step Response');\n",
    "    plt.ylabel('Response');\n",
    "    plt.xlabel('Sample #');\n",
    "    plt.show()\n",
    "#     ax.xaxis.set_major_locator(MaxNLocator(integer=True,nbins=21))\n",
    "#     plt.xlim(0,20)\n",
    "    \n",
    "    #Bode plot of return-ratio\n",
    "    ctl.bode_plot(RR,omega_num=10000,Hz=False,margins=False); plt.suptitle('RR Bode Plot');\n",
    "    \n",
    "    #PZ-map of the closed loop\n",
    "    ctl.pzmap(CL, title = 'CL PZ-Map')\n",
    "    #Draw unit circle for the z-plane\n",
    "    circle1 = plt.Circle((0, 0), 1, alpha=0.05)\n",
    "    fig = plt.gcf(); ax = fig.gca(); ax.add_artist(circle1);\n",
    "    ax.set_aspect('equal', 'box');\n",
    "    plt.xlim(-1.1,1.1)\n",
    "    plt.ylim(-1.1,1.1)\n",
    "    return"
   ]
  },
  {
   "cell_type": "code",
   "execution_count": 8,
   "metadata": {},
   "outputs": [
    {
     "data": {
      "application/vnd.jupyter.widget-view+json": {
       "model_id": "5484025d90834427b7e502b6a75d8652",
       "version_major": 2,
       "version_minor": 0
      },
      "text/plain": [
       "interactive(children=(FloatSlider(value=0.5, description='Kp', max=2.0, min=0.01, step=0.01), Output()), _dom_…"
      ]
     },
     "metadata": {},
     "output_type": "display_data"
    }
   ],
   "source": [
    "interact(getDiscIntCLplots,Kp=(0.01,2,0.01));"
   ]
  }
 ],
 "metadata": {
  "kernelspec": {
   "display_name": "Python 3",
   "language": "python",
   "name": "python3"
  },
  "language_info": {
   "codemirror_mode": {
    "name": "ipython",
    "version": 3
   },
   "file_extension": ".py",
   "mimetype": "text/x-python",
   "name": "python",
   "nbconvert_exporter": "python",
   "pygments_lexer": "ipython3",
   "version": "3.7.3"
  },
  "toc-autonumbering": false
 },
 "nbformat": 4,
 "nbformat_minor": 4
}
